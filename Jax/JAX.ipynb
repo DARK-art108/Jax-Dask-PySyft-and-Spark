{
  "nbformat": 4,
  "nbformat_minor": 0,
  "metadata": {
    "colab": {
      "name": "JAX.ipynb",
      "provenance": [],
      "collapsed_sections": []
    },
    "kernelspec": {
      "name": "python3",
      "display_name": "Python 3"
    },
    "accelerator": "TPU"
  },
  "cells": [
    {
      "cell_type": "markdown",
      "metadata": {
        "id": "jnWJ4siglE8O"
      },
      "source": [
        "## W&B x JAX Meetup Series Notebook #1 \n",
        "\n",
        "This is notebook 1 from the JAX Study Group. To credit, this notebook was created by [Cristian Garcia](https://twitter.com/cgarciae88) with some additions made by [Sanyam Bhutani](http://twitter.com/bhutanisanyam1). \n",
        "\n",
        "To join the study group, please register for the Zoom webinar [here](http://wandb.me/JAX-registration) and join the JAX meetup page [here](https://www.meetup.com/jax-global-meetup/)\n",
        "\n",
        "Note: All meetups will be recorded and materials will be made available on the [forums](https://community.wandb.ai/c/community-events/jax/41)\n",
        "\n",
        "\n",
        "## Content Outline:\n",
        "\n",
        "- JAX vs Numpy\n",
        "- Automatic Differentiation\n",
        "- Vectorization\n",
        "- JIT Compilation\n",
        "- Parallelization\n",
        "- PyTrees"
      ]
    },
    {
      "cell_type": "markdown",
      "metadata": {
        "id": "CqsM8alyakps"
      },
      "source": [
        "\n",
        "## Setup\n",
        "During this tutorial we are going to use Jax with a TPU to showcase some of its features, to do this go to `Runtime > Change runtime type` and select `TPU`. After that just run the following cell:"
      ]
    },
    {
      "cell_type": "code",
      "metadata": {
        "id": "LvKxCGL9acn0",
        "colab": {
          "base_uri": "https://localhost:8080/"
        },
        "outputId": "052ca5d3-8c42-4c4e-ce27-f5f92f3ea5e5"
      },
      "source": [
        "import jax\n",
        "\n",
        "#Uncomment these lines for TPU:\n",
        "import jax.tools.colab_tpu\n",
        "jax.tools.colab_tpu.setup_tpu()\n",
        "jax.devices()"
      ],
      "execution_count": 1,
      "outputs": [
        {
          "output_type": "execute_result",
          "data": {
            "text/plain": [
              "[TpuDevice(id=0, process_index=0, coords=(0,0,0), core_on_chip=0),\n",
              " TpuDevice(id=1, process_index=0, coords=(0,0,0), core_on_chip=1),\n",
              " TpuDevice(id=2, process_index=0, coords=(1,0,0), core_on_chip=0),\n",
              " TpuDevice(id=3, process_index=0, coords=(1,0,0), core_on_chip=1),\n",
              " TpuDevice(id=4, process_index=0, coords=(0,1,0), core_on_chip=0),\n",
              " TpuDevice(id=5, process_index=0, coords=(0,1,0), core_on_chip=1),\n",
              " TpuDevice(id=6, process_index=0, coords=(1,1,0), core_on_chip=0),\n",
              " TpuDevice(id=7, process_index=0, coords=(1,1,0), core_on_chip=1)]"
            ]
          },
          "metadata": {},
          "execution_count": 1
        }
      ]
    },
    {
      "cell_type": "markdown",
      "metadata": {
        "id": "QPBZUlApSiy9"
      },
      "source": [
        "For TPU,\n",
        "If all went well you should see `8` devices.\n",
        "\n",
        "Note:\n",
        "You should see a GPU ID if you're trying this w GPU"
      ]
    },
    {
      "cell_type": "markdown",
      "metadata": {
        "id": "D2_G-ByRTgnE"
      },
      "source": [
        "## Numpy API\n",
        "[`Numpy`]() is the bread and butter of all MLEs toolbox. \n",
        "\n",
        "Jax's primary \"tensor\" abtraction and API is good old Numpy array and the Numpy API which is available as `jax.numpy`. \n",
        "\n"
      ]
    },
    {
      "cell_type": "code",
      "metadata": {
        "id": "UV6wCqammqJ_"
      },
      "source": [
        "import numpy as np\n",
        "\n",
        "#Jax offers a `jax.numpy` API\n",
        "import jax.numpy as jnp"
      ],
      "execution_count": 2,
      "outputs": []
    },
    {
      "cell_type": "markdown",
      "metadata": {
        "id": "jZ4ccRzhm2Lg"
      },
      "source": [
        "Let's take a peek at the function differences, as we'll see from the output, almost the entirity of the functions supported by `numpy` are present in `jax.numpy`"
      ]
    },
    {
      "cell_type": "code",
      "metadata": {
        "colab": {
          "base_uri": "https://localhost:8080/"
        },
        "id": "CS0uCGJlmzPH",
        "outputId": "effe3906-a414-4093-820c-7960a4c3999d"
      },
      "source": [
        "np_funcs = set(dir(np))\n",
        "jnp_funcs = set(dir(jnp))\n",
        "\n",
        "print(len(np_funcs)  , len(jnp_funcs.intersection(np_funcs)))"
      ],
      "execution_count": 3,
      "outputs": [
        {
          "output_type": "stream",
          "name": "stdout",
          "text": [
            "622 474\n"
          ]
        }
      ]
    },
    {
      "cell_type": "code",
      "metadata": {
        "colab": {
          "base_uri": "https://localhost:8080/"
        },
        "id": "tvDAtp59oIxV",
        "outputId": "61f3f780-b4c4-4bf2-affa-47e5bea389e7"
      },
      "source": [
        "print(np_funcs.difference(jnp_funcs))"
      ],
      "execution_count": 4,
      "outputs": [
        {
          "output_type": "stream",
          "name": "stdout",
          "text": [
            "{'NAN', 'ushort', 'bytes_', 'warnings', 'char', 'ufunc', 'flatiter', 'rec', 'format_parser', 'FLOATING_POINT_SUPPORT', 'ulonglong', 'FPE_UNDERFLOW', 'True_', '_distributor_init', 'SHIFT_INVALID', 'str_', 'longlong', '__git_revision__', 'cfloat', 'sctypeDict', 'ndenumerate', 'MAY_SHARE_EXACT', 'byte', 'FPE_OVERFLOW', 'numarray', 'PINF', 'poly1d', 'short', 'TooHardError', 'clongdouble', '_mat', 'VisibleDeprecationWarning', 'ScalarType', 'dual', 'typeDict', 'emath', 'uintp', 'ERR_WARN', 'uint', 'MAY_SHARE_BOUNDS', 'False_', 'longcomplex', 'string_', 'float', 'ERR_PRINT', 'object', 'broadcast', '__NUMPY_SETUP__', 'long', 'compat', 'intp', 'use_hugepage', 'ERR_RAISE', 'SHIFT_DIVIDEBYZERO', 'MachAr', 'ERR_DEFAULT', 'nbytes', 'ERR_LOG', 'random', 'chararray', '_NoValue', 'ctypeslib', 'sctypeNA', 'str', '_globals', 'bool', 'sctypes', 'void', 'FPE_DIVIDEBYZERO', 'bytes0', 'RAISE', 'tracemalloc_domain', 'BUFSIZE', 'busdaycalendar', 'Infinity', 'SHIFT_OVERFLOW', 'version', 'half', '_UFUNC_API', 'DataSource', 'singlecomplex', 'int', 'ModuleDeprecationWarning', 'kernel_version', 'longdouble', 'sys', 'typecodes', 'cast', 'bool8', 'uint0', 'NaN', 'WRAP', 'memmap', '_pytesttester', 'nditer', 'ALLOW_THREADS', 'lib', 'matrixlib', 'unicode', 'FPE_INVALID', 'ubyte', 'matrix', 'timedelta64', 'os', 'datetime64', '__dir__', 'RankWarning', 'UFUNC_PYVALS_NAME', 'little_endian', 'object0', 'generic', 'core', '__version__', 'ERR_CALL', '__config__', 'AxisError', 'void0', 'int0', 'typeNA', 'Tester', 'CLIP', 'str0', 'math', 'complex256', 'longfloat', 'polynomial', 'uintc', 'record', 'infty', 'SHIFT_UNDERFLOW', 'ma', 'float128', 'ERR_IGNORE', 'testing', 'MAXDIMS', 'Inf', '__getattr__', 'complex', 'oldnumeric', 'ndindex', 'UFUNC_BUFSIZE_DEFAULT', 'clongfloat', 'unicode_', 'errstate', 'intc', 'test', 'recarray', '__all__'}\n"
          ]
        }
      ]
    },
    {
      "cell_type": "markdown",
      "metadata": {
        "id": "JmKc_ewVmqle"
      },
      "source": [
        "This is one of its best features because its familiar to almost everyone on the field, take a look at the following example:"
      ]
    },
    {
      "cell_type": "code",
      "metadata": {
        "id": "VmgaLEai7AXq"
      },
      "source": [
        "?jnp.meshgrid()"
      ],
      "execution_count": 5,
      "outputs": []
    },
    {
      "cell_type": "code",
      "metadata": {
        "colab": {
          "base_uri": "https://localhost:8080/"
        },
        "id": "KnLgSzTPSNZf",
        "outputId": "97801d7a-7589-4d76-84b6-0f777959ce9a"
      },
      "source": [
        "x = jnp.linspace(0, 1, 100)\n",
        "y = jnp.linspace(0, 10, 100)\n",
        "\n",
        "X, Y = jnp.meshgrid(x, y)\n",
        "\n",
        "print(\"X:\", X.shape)\n",
        "print(\"Y:\", Y.shape)"
      ],
      "execution_count": 6,
      "outputs": [
        {
          "output_type": "stream",
          "name": "stdout",
          "text": [
            "X: (100, 100)\n",
            "Y: (100, 100)\n"
          ]
        }
      ]
    },
    {
      "cell_type": "markdown",
      "metadata": {
        "id": "P_71KQIwptYg"
      },
      "source": [
        "## Reminder: JAX ~= Numpy on Accelerators"
      ]
    },
    {
      "cell_type": "code",
      "metadata": {
        "id": "luwYv4cUps8H"
      },
      "source": [
        "#Source: JAX ReadMe\n",
        "\n",
        "import jax.numpy as jnp\n",
        "from jax import grad, jit, vmap\n",
        "\n",
        "def predict(params, inputs):\n",
        "  for W, b in params:\n",
        "    outputs = jnp.dot(inputs, W) + b\n",
        "    inputs = jnp.tanh(outputs)  # inputs to the next layer\n",
        "  return outputs                # no activation on last layer\n",
        "\n",
        "def loss(params, inputs, targets):\n",
        "  preds = predict(params, inputs)\n",
        "  return jnp.sum((preds - targets)**2)\n",
        "\n",
        "grad_loss = jit(grad(loss))  # compiled gradient evaluation function\n",
        "perex_grads = jit(vmap(grad_loss, in_axes=(None, 0, 0)))  # fast per-example grads\n"
      ],
      "execution_count": 7,
      "outputs": []
    },
    {
      "cell_type": "markdown",
      "metadata": {
        "id": "g9PZUJXN9NRB"
      },
      "source": [
        "## Differences:\n",
        "\n",
        "Credit: [JAX Sharp Bits Colab by JAX Team](https://colab.research.google.com/github/google/jax/blob/main/docs/notebooks/Common_Gotchas_in_JAX.ipynb#scrollTo=om4xV7_84N9j)\n",
        "- In place modify doesn't work\n",
        "- `jnp.random` doesn't exist! You have to use `jax.random` which offers the same functions **BUT** it is you have to explicitly handle the random state (RNG) that is compatible with Jax's functional programming model.\n",
        "- Updated Array is a new Array\n",
        "- Out of place updates\n",
        "- Non Array Inputs\n",
        "- Using `double`"
      ]
    },
    {
      "cell_type": "code",
      "metadata": {
        "id": "zcc8izot9Lr4",
        "colab": {
          "base_uri": "https://localhost:8080/"
        },
        "outputId": "86926068-be59-46ea-8d36-fe04c486d2ff"
      },
      "source": [
        "numpy_array = np.zeros((3,3), dtype=np.float32)\n",
        "print(\"original array:\")\n",
        "print(numpy_array)\n",
        "\n",
        "# In place, mutating update\n",
        "numpy_array[1, :] = 1.0\n",
        "print(\"updated array:\")\n",
        "print(numpy_array)"
      ],
      "execution_count": 8,
      "outputs": [
        {
          "output_type": "stream",
          "name": "stdout",
          "text": [
            "original array:\n",
            "[[0. 0. 0.]\n",
            " [0. 0. 0.]\n",
            " [0. 0. 0.]]\n",
            "updated array:\n",
            "[[0. 0. 0.]\n",
            " [1. 1. 1.]\n",
            " [0. 0. 0.]]\n"
          ]
        }
      ]
    },
    {
      "cell_type": "code",
      "metadata": {
        "id": "l00XGeb6pr_Y",
        "colab": {
          "base_uri": "https://localhost:8080/"
        },
        "outputId": "4b1fa031-5b51-4e5c-922d-ba00633c92d5"
      },
      "source": [
        "jax_array = jnp.zeros((3,3), dtype=jnp.float32)\n",
        "\n",
        "# JAX Arrays are immutable\n",
        "try:\n",
        "  jax_array[1, :] = 1.0\n",
        "except Exception as e:\n",
        "  print(\"Exception {}\".format(e))"
      ],
      "execution_count": 9,
      "outputs": [
        {
          "output_type": "stream",
          "name": "stdout",
          "text": [
            "Exception '<class 'jax.interpreters.xla._DeviceArray'>' object does not support item assignment. JAX arrays are immutable. Instead of ``x[idx] = y``, use ``x = x.at[idx].set(y)`` or another .at[] method: https://jax.readthedocs.io/en/latest/jax.ops.html\n"
          ]
        }
      ]
    },
    {
      "cell_type": "code",
      "metadata": {
        "colab": {
          "base_uri": "https://localhost:8080/"
        },
        "id": "bgDUfrz1AKSh",
        "outputId": "9fa5a4e9-f9e9-48d7-8c9f-e1f4811d6bea"
      },
      "source": [
        "updated_array = jax_array.at[1, :].set(1.0)\n",
        "print(\"updated array:\\n\", updated_array)\n",
        "\n",
        "print(\"original array unchanged:\\n\", jax_array)"
      ],
      "execution_count": 10,
      "outputs": [
        {
          "output_type": "stream",
          "name": "stdout",
          "text": [
            "updated array:\n",
            " [[0. 0. 0.]\n",
            " [1. 1. 1.]\n",
            " [0. 0. 0.]]\n",
            "original array unchanged:\n",
            " [[0. 0. 0.]\n",
            " [0. 0. 0.]\n",
            " [0. 0. 0.]]\n"
          ]
        }
      ]
    },
    {
      "cell_type": "code",
      "metadata": {
        "colab": {
          "base_uri": "https://localhost:8080/"
        },
        "id": "VWXbQNCN74-1",
        "outputId": "aceba07d-fc80-4e06-89e5-4e4c377b3de8"
      },
      "source": [
        "from jax import random\n",
        "key = random.PRNGKey(0)\n",
        "key\n",
        "\n",
        "print(random.normal(key, shape=(1,)))"
      ],
      "execution_count": 11,
      "outputs": [
        {
          "output_type": "stream",
          "name": "stdout",
          "text": [
            "[-0.20584236]\n"
          ]
        }
      ]
    },
    {
      "cell_type": "code",
      "metadata": {
        "colab": {
          "base_uri": "https://localhost:8080/"
        },
        "id": "3iHJU1eSAQf4",
        "outputId": "3df97d9f-da5f-46db-b232-01467e903744"
      },
      "source": [
        "print((jnp.arange(10)[100]))"
      ],
      "execution_count": 14,
      "outputs": [
        {
          "output_type": "stream",
          "name": "stdout",
          "text": [
            "9\n"
          ]
        }
      ]
    },
    {
      "cell_type": "code",
      "metadata": {
        "colab": {
          "base_uri": "https://localhost:8080/"
        },
        "id": "pZ6znWI5AUUE",
        "outputId": "18d094b6-2ecf-4ccf-ebfe-f9000360c06c"
      },
      "source": [
        "try:\n",
        "  jnp.sum([1, 2, 3])\n",
        "except TypeError as e:\n",
        "  print(f\"TypeError: {e}\")"
      ],
      "execution_count": 15,
      "outputs": [
        {
          "output_type": "stream",
          "name": "stdout",
          "text": [
            "TypeError: sum requires ndarray or scalar arguments, got <class 'list'> at position 0.\n"
          ]
        }
      ]
    },
    {
      "cell_type": "code",
      "metadata": {
        "colab": {
          "base_uri": "https://localhost:8080/"
        },
        "id": "GkJ04jRvAjUZ",
        "outputId": "69cf7751-036f-4397-fe64-761684b9d9b0"
      },
      "source": [
        "x = random.uniform(random.PRNGKey(0), (1000,), dtype=jnp.float64)\n",
        "x.dtype"
      ],
      "execution_count": 16,
      "outputs": [
        {
          "output_type": "execute_result",
          "data": {
            "text/plain": [
              "dtype('float32')"
            ]
          },
          "metadata": {},
          "execution_count": 16
        }
      ]
    },
    {
      "cell_type": "code",
      "metadata": {
        "id": "G7YH5LAgBAn1"
      },
      "source": [
        "#Do this to enable higher precision:\n",
        "from jax.config import config\n",
        "config.update(\"jax_enable_x64\", False)"
      ],
      "execution_count": 17,
      "outputs": []
    },
    {
      "cell_type": "markdown",
      "metadata": {
        "id": "jGg1CiEgTm6J"
      },
      "source": [
        "Apart from the `numpy` API has a suite of function transformations which let you easily perform computations that can be hard on other frameworks. We will these transformations next!\n",
        "\n",
        "## Automatic Differentiation\n",
        "One of the most important aspects of a modern Linear Algebra library is Automatic Differentiation. To explore how Jax achieves this lets first view a simple example of the density function of the normal distribution which has the form:\n",
        "\n",
        "$$ \n",
        "f(x) = \\frac{1}{\\sigma\\sqrt{2\\pi}} \\exp\\left( -\\frac{1}{2}\\left(\\frac{x-\\mu}{\\sigma}\\right)^{\\!2}\\,\\right) \n",
        "$$\n",
        "\n",
        "This is available in Jax as `jax.scipy.stats.norm.pdf` and behaves just like its Scipy counterpart:"
      ]
    },
    {
      "cell_type": "code",
      "metadata": {
        "colab": {
          "base_uri": "https://localhost:8080/",
          "height": 265
        },
        "id": "f_mmwC5hTXgt",
        "outputId": "36871a60-0864-4e44-d160-b839c1411dfc"
      },
      "source": [
        "import matplotlib.pyplot as plt\n",
        "\n",
        "x = jnp.linspace(-4, 4, 100)\n",
        "y = jax.scipy.stats.norm.pdf(x)\n",
        "\n",
        "plt.plot(x, y);"
      ],
      "execution_count": 18,
      "outputs": [
        {
          "output_type": "display_data",
          "data": {
            "image/png": "[encoded data removed]",
            "text/plain": [
              "<Figure size 432x288 with 1 Axes>"
            ]
          },
          "metadata": {
            "needs_background": "light"
          }
        }
      ]
    },
    {
      "cell_type": "markdown",
      "metadata": {
        "id": "nnZqTLfAaG16"
      },
      "source": [
        "Here we used the default parameters \\\\( {\\mu} = 0 \\\\) and \\\\( {\\sigma} = 1 \\\\). Now if we wanted its derivative we could probably get an exact expressionby hand but in Jax we can leverage the `grad` function which will transform our function into a function that returns its gradient:"
      ]
    },
    {
      "cell_type": "code",
      "metadata": {
        "colab": {
          "base_uri": "https://localhost:8080/"
        },
        "id": "iRmCHy4rUcpx",
        "outputId": "193c8642-7543-476b-baf6-5e7676a06401"
      },
      "source": [
        "grad_fn = jax.grad(jax.scipy.stats.norm.pdf)\n",
        "\n",
        "{\n",
        "  -5.0: grad_fn(-5.0), \n",
        "  -1.0: grad_fn(-1.0),\n",
        "   0.0: grad_fn(0.0), \n",
        "   1.0: grad_fn(1.0), \n",
        "   5.0: grad_fn(5.0)\n",
        "}"
      ],
      "execution_count": 19,
      "outputs": [
        {
          "output_type": "execute_result",
          "data": {
            "text/plain": [
              "{-5.0: DeviceArray(7.433706e-06, dtype=float32),\n",
              " -1.0: DeviceArray(0.24197444, dtype=float32),\n",
              " 0.0: DeviceArray(-0., dtype=float32),\n",
              " 1.0: DeviceArray(-0.24197444, dtype=float32),\n",
              " 5.0: DeviceArray(-7.433706e-06, dtype=float32)}"
            ]
          },
          "metadata": {},
          "execution_count": 19
        }
      ]
    },
    {
      "cell_type": "markdown",
      "metadata": {
        "id": "CrTyoYREdojT"
      },
      "source": [
        "Here we evaluated the derivative of the density function at five points which match our intuition about the functions behavious: almost `0` at `-5`, positive at `-1`, flat at `0`, netative at `-1`, and then almost `0` at `-5`. As its common in Numpy, We could be tempted to calculate this for the whole domain but we will get an error:"
      ]
    },
    {
      "cell_type": "code",
      "metadata": {
        "colab": {
          "base_uri": "https://localhost:8080/"
        },
        "id": "2BgTb5TzYDQx",
        "outputId": "d740a4b4-3db5-4696-a097-d1d5c329d16c"
      },
      "source": [
        "try:\n",
        "  dydx = grad_fn(x)\n",
        "except BaseException as e:\n",
        "  print(e)"
      ],
      "execution_count": 20,
      "outputs": [
        {
          "output_type": "stream",
          "name": "stdout",
          "text": [
            "Gradient only defined for scalar-output functions. Output had shape: (100,).\n"
          ]
        }
      ]
    },
    {
      "cell_type": "markdown",
      "metadata": {
        "id": "OTo_cjUVedqA"
      },
      "source": [
        "As the message points out, the gradient of a function is only defined for a scalar output and here we are returning a vector. To solve this we can explore vectorization."
      ]
    },
    {
      "cell_type": "markdown",
      "metadata": {
        "id": "ZoxzuWhaXDxu"
      },
      "source": [
        "## Vectorization\n",
        "Jax provides a function called `vmap` which lets us transform a function that works with arrays without an explicit batch dimension into a function that now accepts arrays with a batch dimension. Very loosely we are performing the following transformation:\n",
        "```\n",
        "(a...) -> (b...) => (batch, a...) -> (batch, b...)\n",
        "```\n",
        "Notice how `batch` pops-up in the shapes of the resulting function. For our use-case, since our `grad_fn` only operates on scalars, we can _simply_ use `vmap` to make it work on vectors:"
      ]
    },
    {
      "cell_type": "code",
      "metadata": {
        "colab": {
          "base_uri": "https://localhost:8080/",
          "height": 265
        },
        "id": "LUeoxpF1V1CC",
        "outputId": "593a113e-4ada-4504-f889-de3b25361b38"
      },
      "source": [
        "vectorized_grad_fn = jax.vmap(jax.grad(jax.scipy.stats.norm.pdf))\n",
        "\n",
        "plt.plot(x, vectorized_grad_fn(x));"
      ],
      "execution_count": 21,
      "outputs": [
        {
          "output_type": "display_data",
          "data": {
            "image/png": "[encoded data removed]",
            "text/plain": [
              "<Figure size 432x288 with 1 Axes>"
            ]
          },
          "metadata": {
            "needs_background": "light"
          }
        }
      ]
    },
    {
      "cell_type": "markdown",
      "metadata": {
        "id": "811BIq8AgpiP"
      },
      "source": [
        "Nice! This is very useful in practice if you want to get per-sample gradients which has some known applications."
      ]
    },
    {
      "cell_type": "markdown",
      "metadata": {
        "id": "Upa2dPzRzlvt"
      },
      "source": [
        "## JIT Compilation\n",
        "Lets now switch to the area of performance by creating a function we will call `n_dots` that will iteratively call the `dot` function `1000` times over our input `x` by applying `w`:"
      ]
    },
    {
      "cell_type": "code",
      "metadata": {
        "id": "fpgo3Alam-xO"
      },
      "source": [
        "def n_dots(x, w):\n",
        "  for i in range(200):\n",
        "    a = jnp.dot(x, w) + x\n",
        "    x = jnp.dot(x, a.mean(axis=[0, 1]))\n",
        "  return x"
      ],
      "execution_count": 22,
      "outputs": []
    },
    {
      "cell_type": "markdown",
      "metadata": {
        "id": "3C7ZTvjphfUd"
      },
      "source": [
        "We will first create some random matrices using `jax.random`:"
      ]
    },
    {
      "cell_type": "code",
      "metadata": {
        "id": "bw_WivKalRO1"
      },
      "source": [
        "key = jax.random.PRNGKey(42)\n",
        "key1, key2 = jax.random.split(key, 2)\n",
        "\n",
        "x = jax.random.uniform(key1, shape=(8, 10, 256, 256))\n",
        "w = jax.random.uniform(key2, shape=(256, 256))"
      ],
      "execution_count": 23,
      "outputs": []
    },
    {
      "cell_type": "markdown",
      "metadata": {
        "id": "axuSkmWjivWX"
      },
      "source": [
        "Notice how we derived 2 random keys `key1` and `key2` by splitting a base key, and we feed these keys to the `uniform` function. Using these arrays we can now benchmark `n_dots` with `timeit`: \n",
        "\n"
      ]
    },
    {
      "cell_type": "code",
      "metadata": {
        "colab": {
          "base_uri": "https://localhost:8080/"
        },
        "id": "OdOoh_B-isSf",
        "outputId": "3b02f418-5358-4bd0-d132-e630551ba060"
      },
      "source": [
        "%timeit n_dots(x, w).block_until_ready()"
      ],
      "execution_count": 24,
      "outputs": [
        {
          "output_type": "stream",
          "name": "stdout",
          "text": [
            "1 loop, best of 5: 1.5 s per loop\n"
          ]
        }
      ]
    },
    {
      "cell_type": "markdown",
      "metadata": {
        "id": "5ghj8jJxiC1g"
      },
      "source": [
        "Notice that we use `.block_until_ready()`, this is needed because Jax has an asynchronous model that queues computation the devices in the background and returns almost inmediately which would be misleading.\n",
        "\n",
        "Now the previous computation is quite slow in part because of the Python interpreter but also because Jax's eager mode is not optimized. We can do a lot better if we compile the whole computation into a single XLA program via the `jit` transformation:"
      ]
    },
    {
      "cell_type": "code",
      "metadata": {
        "id": "FKl5PLrCl8Ta",
        "colab": {
          "base_uri": "https://localhost:8080/"
        },
        "outputId": "670f8f9d-1615-4ad1-ac32-4e9bb8e53fc3"
      },
      "source": [
        "n_dots_jit = jax.jit(n_dots)\n",
        "\n",
        "n_dots_jit(x, w) # benchmark trick\n",
        "print(\"done jitting\")\n",
        "\n",
        "%timeit n_dots_jit(x, w).block_until_ready()"
      ],
      "execution_count": 25,
      "outputs": [
        {
          "output_type": "stream",
          "name": "stdout",
          "text": [
            "done jitting\n",
            "10 loops, best of 5: 67.4 ms per loop\n"
          ]
        }
      ]
    },
    {
      "cell_type": "markdown",
      "metadata": {
        "id": "TMRFiCdomjJD"
      },
      "source": [
        "This is more than a **10x** improvement 🚀. This is amazing but can we do better?"
      ]
    },
    {
      "cell_type": "markdown",
      "metadata": {
        "id": "VDgANjdZldFp"
      },
      "source": [
        "## Parallelization\n",
        "\n",
        "`vmap` allows parallelization on a single device\n",
        "\n",
        "`pmap` allows parallelization across multiple devices. Ex: TPU Cores."
      ]
    },
    {
      "cell_type": "code",
      "metadata": {
        "colab": {
          "base_uri": "https://localhost:8080/"
        },
        "id": "69qCNnRsXyPR",
        "outputId": "5e3367d2-1546-4561-dc7d-36e9d2bec188"
      },
      "source": [
        "n_dots_pmap = jax.pmap(n_dots, in_axes=(0, None))\n",
        "\n",
        "n_dots_pmap(x, w)\n",
        "print(\"done jitting\")\n",
        "\n",
        "%timeit n_dots_pmap(x, w).block_until_ready()"
      ],
      "execution_count": 26,
      "outputs": [
        {
          "output_type": "stream",
          "name": "stdout",
          "text": [
            "done jitting\n",
            "100 loops, best of 5: 12.7 ms per loop\n"
          ]
        }
      ]
    },
    {
      "cell_type": "markdown",
      "metadata": {
        "id": "1J507iLPnrIg"
      },
      "source": [
        "This is an extra **5x** over `jit` 🚀🚀🚀. Notice that we use `in_axes=(0, None)` This means that we are slicing over the first dimension of the first input `x` but not slicing (replicating) the second input `w`."
      ]
    },
    {
      "cell_type": "markdown",
      "metadata": {
        "id": "vceeLP_qtA7I"
      },
      "source": [
        "## Pytrees\n",
        "Jax offers the concept of a Pytree which is extreemly useful to manimulate complex states, this become important as you do more complex stuff since Jax is very explicit about state handling because of its functional design. \n",
        "\n",
        "We can loosely define a `Pytree` as **any structure which can be flattened**.  Lets create a simple example of such a structure:"
      ]
    },
    {
      "cell_type": "code",
      "metadata": {
        "colab": {
          "base_uri": "https://localhost:8080/"
        },
        "id": "TXHf6GwBsBgY",
        "outputId": "7d7db07e-efb2-4226-b485-4ee987e9f1ce"
      },
      "source": [
        "tree = {\"a\": [1.0, 2.0], \"b\": (3.0, {\"c\": 4.0, \"d\": 5.0})}\n",
        "tree"
      ],
      "execution_count": 27,
      "outputs": [
        {
          "output_type": "execute_result",
          "data": {
            "text/plain": [
              "{'a': [1.0, 2.0], 'b': (3.0, {'c': 4.0, 'd': 5.0})}"
            ]
          },
          "metadata": {},
          "execution_count": 27
        }
      ]
    },
    {
      "cell_type": "markdown",
      "metadata": {
        "id": "Tj9NKIoprZ6U"
      },
      "source": [
        "Here we used dictionaries, lists and tuples to create a nested structure, we can also define register our custom types as pytrees but we will not cover this here. Now, flattening this pytree would be a tipical interview question but Jax lets us do this easily by using the `tree_leaves` function:"
      ]
    },
    {
      "cell_type": "code",
      "metadata": {
        "colab": {
          "base_uri": "https://localhost:8080/"
        },
        "id": "JVXAEwrf555z",
        "outputId": "2276c306-ec67-4e47-e952-a1098a26facd"
      },
      "source": [
        "jax.tree_leaves(tree)"
      ],
      "execution_count": 28,
      "outputs": [
        {
          "output_type": "execute_result",
          "data": {
            "text/plain": [
              "[1.0, 2.0, 3.0, 4.0, 5.0]"
            ]
          },
          "metadata": {},
          "execution_count": 28
        }
      ]
    },
    {
      "cell_type": "markdown",
      "metadata": {
        "id": "0Bt6RfL8sJbH"
      },
      "source": [
        "We can also map over a pytree by using the `tree_map` function which behaves a bit like `map` but keeps the shape of the original structure:"
      ]
    },
    {
      "cell_type": "code",
      "metadata": {
        "colab": {
          "base_uri": "https://localhost:8080/"
        },
        "id": "DBjhIL2c6Dk2",
        "outputId": "62d20f54-aefe-4742-c7c6-7b280a26b6e9"
      },
      "source": [
        "jax.tree_map(lambda x: 10 * x, tree)"
      ],
      "execution_count": 29,
      "outputs": [
        {
          "output_type": "execute_result",
          "data": {
            "text/plain": [
              "{'a': [10.0, 20.0], 'b': (30.0, {'c': 40.0, 'd': 50.0})}"
            ]
          },
          "metadata": {},
          "execution_count": 29
        }
      ]
    },
    {
      "cell_type": "markdown",
      "metadata": {
        "id": "GoCNT7rSsoMM"
      },
      "source": [
        "Here we multiplied each leaf element by `10`. We can also leaf-wise operations between 2 pytrees if they have the same structure:"
      ]
    },
    {
      "cell_type": "code",
      "metadata": {
        "colab": {
          "base_uri": "https://localhost:8080/"
        },
        "id": "CUx--ov16JUa",
        "outputId": "4b8148e3-ca0c-442c-b59d-0d8b4f7bd02b"
      },
      "source": [
        "jax.tree_map(lambda x, y: x * y, tree, tree)"
      ],
      "execution_count": 30,
      "outputs": [
        {
          "output_type": "execute_result",
          "data": {
            "text/plain": [
              "{'a': [1.0, 4.0], 'b': (9.0, {'c': 16.0, 'd': 25.0})}"
            ]
          },
          "metadata": {},
          "execution_count": 30
        }
      ]
    },
    {
      "cell_type": "markdown",
      "metadata": {
        "id": "VW91qsOitNUi"
      },
      "source": [
        "Here we multiplied the elements between 2 pytrees, for simplicity we just reused `tree` but this works in general. \n",
        "\n",
        "Ok, this is very cool but why do we really care about this? The reason most of the basic transformations in Jax and many of the libraries support pytrees. To see this lets do something a bit strange, lets create a loss function our our tree structure:"
      ]
    },
    {
      "cell_type": "code",
      "metadata": {
        "colab": {
          "base_uri": "https://localhost:8080/"
        },
        "id": "GYwvPQTc9IrW",
        "outputId": "b430b77a-e9c5-4b3c-ac75-dca9823c33da"
      },
      "source": [
        "def tree_loss(tree):\n",
        "  return sum((x ** 2 for x in jax.tree_leaves(tree)), 0.0)\n",
        "\n",
        "tree_loss(tree)"
      ],
      "execution_count": 31,
      "outputs": [
        {
          "output_type": "execute_result",
          "data": {
            "text/plain": [
              "55.0"
            ]
          },
          "metadata": {},
          "execution_count": 31
        }
      ]
    },
    {
      "cell_type": "markdown",
      "metadata": {
        "id": "vOu1d5GPuKXK"
      },
      "source": [
        "To define this loss function we leverages `tree_leaves` to square each element before adding them up using `sum`. The next obvious step is seen if we can define can calculate the gradient for our loss function for this tree:"
      ]
    },
    {
      "cell_type": "code",
      "metadata": {
        "colab": {
          "base_uri": "https://localhost:8080/"
        },
        "id": "5_KRfALR6VmC",
        "outputId": "68400347-f2ac-4f75-a76d-ba234477169d"
      },
      "source": [
        "tree_grad = jax.grad(tree_loss)\n",
        "\n",
        "# tree_grad(tree)\n",
        "jax.tree_map(float, tree_grad(tree))"
      ],
      "execution_count": 32,
      "outputs": [
        {
          "output_type": "execute_result",
          "data": {
            "text/plain": [
              "{'a': [2.0, 4.0], 'b': (6.0, {'c': 8.0, 'd': 10.0})}"
            ]
          },
          "metadata": {},
          "execution_count": 32
        }
      ]
    },
    {
      "cell_type": "markdown",
      "metadata": {
        "id": "t8MA4uZIxPyw"
      },
      "source": [
        "An it works just fine! Notice that the gradient of the loss has the same shape as our tree 😄. Putting everything together we can perform gradient descent to get the minimum tree by using `jit` and `tree_multimap`:"
      ]
    },
    {
      "cell_type": "code",
      "metadata": {
        "colab": {
          "base_uri": "https://localhost:8080/"
        },
        "id": "_eU-wFgcuoZo",
        "outputId": "95f55167-70f7-4430-d13b-587ab74d8a4f"
      },
      "source": [
        "tree_min = tree\n",
        "\n",
        "def gradient_descent(p, g):\n",
        "  return p - 0.1 * g\n",
        "\n",
        "@jax.jit\n",
        "def update(tree):\n",
        "    grads = tree_grad(tree)\n",
        "    tree = jax.tree_map(gradient_descent, tree, grads) #GD\n",
        "    return tree\n",
        "\n",
        "for i in range(100):\n",
        "    tree_min = update(tree_min)\n",
        "\n",
        "jax.tree_map(float, tree_grad(tree_min))"
      ],
      "execution_count": 33,
      "outputs": [
        {
          "output_type": "execute_result",
          "data": {
            "text/plain": [
              "{'a': [4.074073578497206e-10, 8.148147156994412e-10],\n",
              " 'b': (1.2222216572155276e-09,\n",
              "  {'c': 1.6296294313988824e-09, 'd': 2.0370367614930274e-09})}"
            ]
          },
          "metadata": {},
          "execution_count": 33
        }
      ]
    },
    {
      "cell_type": "markdown",
      "metadata": {
        "id": "xWsQ9eMsx3ZH"
      },
      "source": [
        "Beautiful! The optimal solution is all zeros so we are very close."
      ]
    }
  ]
}